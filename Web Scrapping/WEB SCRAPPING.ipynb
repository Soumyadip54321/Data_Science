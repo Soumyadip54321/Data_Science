{
 "cells": [
  {
   "cell_type": "markdown",
   "id": "4e0b9b37",
   "metadata": {},
   "source": [
    "## WEB SCRAPPING\n",
    "This workbook demonstrates usage of python to perform web scrapping from any website to obtain information."
   ]
  },
  {
   "cell_type": "code",
   "execution_count": 35,
   "id": "1ff20b77",
   "metadata": {},
   "outputs": [],
   "source": [
    "import requests\n",
    "import os\n",
    "import pandas as pd\n",
    "import numpy as np\n",
    "import matplotlib.pyplot as plt"
   ]
  },
  {
   "cell_type": "code",
   "execution_count": 36,
   "id": "724da33f",
   "metadata": {},
   "outputs": [],
   "source": [
    "from bs4 import BeautifulSoup"
   ]
  },
  {
   "cell_type": "code",
   "execution_count": 37,
   "id": "08dbcb16",
   "metadata": {},
   "outputs": [],
   "source": [
    "import bs4"
   ]
  },
  {
   "cell_type": "code",
   "execution_count": 38,
   "id": "ad9b621b",
   "metadata": {},
   "outputs": [],
   "source": [
    "url=\"http://127.0.0.1:5500/Web%20Scrapping/response.html\""
   ]
  },
  {
   "cell_type": "code",
   "execution_count": 39,
   "id": "580dd9a9",
   "metadata": {},
   "outputs": [],
   "source": [
    "x=requests.get(url)"
   ]
  },
  {
   "cell_type": "markdown",
   "id": "c684c897",
   "metadata": {},
   "source": [
    "#### We check whether we obtained a response to the GET request sent."
   ]
  },
  {
   "cell_type": "code",
   "execution_count": 40,
   "id": "6c702cce",
   "metadata": {},
   "outputs": [
    {
     "data": {
      "text/plain": [
       "200"
      ]
     },
     "execution_count": 40,
     "metadata": {},
     "output_type": "execute_result"
    }
   ],
   "source": [
    "x.status_code"
   ]
  },
  {
   "cell_type": "markdown",
   "id": "52ac065d",
   "metadata": {},
   "source": [
    "The above status code of 200 indicates that we did get a response to the URL request we made."
   ]
  },
  {
   "cell_type": "markdown",
   "id": "3e042c13",
   "metadata": {},
   "source": [
    "Next we check the type of content retrieved from the above URL"
   ]
  },
  {
   "cell_type": "code",
   "execution_count": 41,
   "id": "0115c471",
   "metadata": {},
   "outputs": [
    {
     "data": {
      "text/plain": [
       "bytes"
      ]
     },
     "execution_count": 41,
     "metadata": {},
     "output_type": "execute_result"
    }
   ],
   "source": [
    "type(x.content)"
   ]
  },
  {
   "cell_type": "markdown",
   "id": "dd199a31",
   "metadata": {},
   "source": [
    "Now response here denoted by 'x' has 2 attributes. One is x.text that outputs text-based responses such as html,xml etc\n",
    "while x.content outputs binary-based responses such as jpg,png etc.  \n",
    "Since we need html version we choose x.text here."
   ]
  },
  {
   "cell_type": "code",
   "execution_count": 42,
   "id": "bc1adac2",
   "metadata": {},
   "outputs": [],
   "source": [
    "with open('response.html','w') as f:\n",
    "    f.write(x.text)"
   ]
  },
  {
   "cell_type": "markdown",
   "id": "918faae5",
   "metadata": {},
   "source": [
    "Here we create a file named **response.txt** and store the html content into it."
   ]
  },
  {
   "cell_type": "markdown",
   "id": "2616cef0",
   "metadata": {},
   "source": [
    "### DISPLAY HTML CONTENT"
   ]
  },
  {
   "cell_type": "code",
   "execution_count": 43,
   "id": "e757d6d9",
   "metadata": {},
   "outputs": [
    {
     "name": "stdout",
     "output_type": "stream",
     "text": [
      "<!doctype html>\n",
      "<html lang=\"en\">\n",
      "   <head>\n",
      "      <meta charset=\"utf-8\">\n",
      "      <meta name=\"viewport\" content=\"width=device-width, initial-scale=1, shrink-to-fit=no\">\n",
      "      <link rel=\"stylesheet\" href=\"https://stackpath.bootstrapcdn.com/bootstrap/4.5.2/css/bootstrap.min.css\" integrity=\"sha384-JcKb8q3iqJ61gNV9KGb8thSsNjpSL0n8PARn9HuZOnIxN0hoP+VmmDGMN5t9UJ0Z\" crossorigin=\"anonymous\">\n",
      "      <title>My Courses</title>\n",
      "   </head>\n",
      "   <body>\n",
      "      <h1>Hello, Start Learning!</h1>\n",
      "      <div class=\"card\" id=\"card-python-for-beginners\">\n",
      "         <div class=\"card-header\">\n",
      "            Python\n",
      "         </div>\n",
      "         <div class=\"card-body\">\n",
      "            <h5 class=\"card-title\">Python for beginners</h5>\n",
      "            <p class=\"card-text\">If you are new to Python, this is the course that you should buy!</p>\n",
      "            <a href=\"#\" class=\"btn btn-primary\">Start for 20$</a>\n",
      "         </div>\n",
      "      </div>\n",
      "      <div class=\"card\" id=\"card-python-web-development\">\n",
      "         <div class=\"card-header\">\n",
      "            Python\n",
      "         </div>\n",
      "         <div class=\"card-body\">\n",
      "            <h5 class=\"card-title\">Python Web Development</h5>\n",
      "            <p class=\"card-text\">If you feel enough confident with python, you are ready to learn how to create your own website!</p>\n",
      "            <a href=\"#\" class=\"btn btn-primary\">Start for 50$</a>\n",
      "         </div>\n",
      "      </div>\n",
      "      <div class=\"card\" id=\"card-python-machine-learning\">\n",
      "         <div class=\"card-header\">\n",
      "            Python\n",
      "         </div>\n",
      "         <div class=\"card-body\">\n",
      "            <h5 class=\"card-title\">Python Machine Learning</h5>\n",
      "            <p class=\"card-text\">Become a Python Machine Learning master!</p>\n",
      "            <a href=\"#\" class=\"btn btn-primary\">Start for 100$</a>\n",
      "         </div>\n",
      "      </div>\n",
      "   <!-- Code injected by live-server -->\n",
      "<script>\n",
      "\t// <![CDATA[  <-- For SVG support\n",
      "\tif ('WebSocket' in window) {\n",
      "\t\t(function () {\n",
      "\t\t\tfunction refreshCSS() {\n",
      "\t\t\t\tvar sheets = [].slice.call(document.getElementsByTagName(\"link\"));\n",
      "\t\t\t\tvar head = document.getElementsByTagName(\"head\")[0];\n",
      "\t\t\t\tfor (var i = 0; i < sheets.length; ++i) {\n",
      "\t\t\t\t\tvar elem = sheets[i];\n",
      "\t\t\t\t\tvar parent = elem.parentElement || head;\n",
      "\t\t\t\t\tparent.removeChild(elem);\n",
      "\t\t\t\t\tvar rel = elem.rel;\n",
      "\t\t\t\t\tif (elem.href && typeof rel != \"string\" || rel.length == 0 || rel.toLowerCase() == \"stylesheet\") {\n",
      "\t\t\t\t\t\tvar url = elem.href.replace(/(&|\\?)_cacheOverride=\\d+/, '');\n",
      "\t\t\t\t\t\telem.href = url + (url.indexOf('?') >= 0 ? '&' : '?') + '_cacheOverride=' + (new Date().valueOf());\n",
      "\t\t\t\t\t}\n",
      "\t\t\t\t\tparent.appendChild(elem);\n",
      "\t\t\t\t}\n",
      "\t\t\t}\n",
      "\t\t\tvar protocol = window.location.protocol === 'http:' ? 'ws://' : 'wss://';\n",
      "\t\t\tvar address = protocol + window.location.host + window.location.pathname + '/ws';\n",
      "\t\t\tvar socket = new WebSocket(address);\n",
      "\t\t\tsocket.onmessage = function (msg) {\n",
      "\t\t\t\tif (msg.data == 'reload') window.location.reload();\n",
      "\t\t\t\telse if (msg.data == 'refreshcss') refreshCSS();\n",
      "\t\t\t};\n",
      "\t\t\tif (sessionStorage && !sessionStorage.getItem('IsThisFirstTime_Log_From_LiveServer')) {\n",
      "\t\t\t\tconsole.log('Live reload enabled.');\n",
      "\t\t\t\tsessionStorage.setItem('IsThisFirstTime_Log_From_LiveServer', true);\n",
      "\t\t\t}\n",
      "\t\t})();\n",
      "\t}\n",
      "\telse {\n",
      "\t\tconsole.error('Upgrade your browser. This Browser is NOT supported WebSocket for Live-Reloading.');\n",
      "\t}\n",
      "\t// ]]>\n",
      "</script>\n",
      "<!-- Code injected by live-server -->\n",
      "<script>\n",
      "\t// <![CDATA[  <-- For SVG support\n",
      "\tif ('WebSocket' in window) {\n",
      "\t\t(function () {\n",
      "\t\t\tfunction refreshCSS() {\n",
      "\t\t\t\tvar sheets = [].slice.call(document.getElementsByTagName(\"link\"));\n",
      "\t\t\t\tvar head = document.getElementsByTagName(\"head\")[0];\n",
      "\t\t\t\tfor (var i = 0; i < sheets.length; ++i) {\n",
      "\t\t\t\t\tvar elem = sheets[i];\n",
      "\t\t\t\t\tvar parent = elem.parentElement || head;\n",
      "\t\t\t\t\tparent.removeChild(elem);\n",
      "\t\t\t\t\tvar rel = elem.rel;\n",
      "\t\t\t\t\tif (elem.href && typeof rel != \"string\" || rel.length == 0 || rel.toLowerCase() == \"stylesheet\") {\n",
      "\t\t\t\t\t\tvar url = elem.href.replace(/(&|\\?)_cacheOverride=\\d+/, '');\n",
      "\t\t\t\t\t\telem.href = url + (url.indexOf('?') >= 0 ? '&' : '?') + '_cacheOverride=' + (new Date().valueOf());\n",
      "\t\t\t\t\t}\n",
      "\t\t\t\t\tparent.appendChild(elem);\n",
      "\t\t\t\t}\n",
      "\t\t\t}\n",
      "\t\t\tvar protocol = window.location.protocol === 'http:' ? 'ws://' : 'wss://';\n",
      "\t\t\tvar address = protocol + window.location.host + window.location.pathname + '/ws';\n",
      "\t\t\tvar socket = new WebSocket(address);\n",
      "\t\t\tsocket.onmessage = function (msg) {\n",
      "\t\t\t\tif (msg.data == 'reload') window.location.reload();\n",
      "\t\t\t\telse if (msg.data == 'refreshcss') refreshCSS();\n",
      "\t\t\t};\n",
      "\t\t\tif (sessionStorage && !sessionStorage.getItem('IsThisFirstTime_Log_From_LiveServer')) {\n",
      "\t\t\t\tconsole.log('Live reload enabled.');\n",
      "\t\t\t\tsessionStorage.setItem('IsThisFirstTime_Log_From_LiveServer', true);\n",
      "\t\t\t}\n",
      "\t\t})();\n",
      "\t}\n",
      "\telse {\n",
      "\t\tconsole.error('Upgrade your browser. This Browser is NOT supported WebSocket for Live-Reloading.');\n",
      "\t}\n",
      "\t// ]]>\n",
      "</script>\n",
      "<!-- Code injected by live-server -->\n",
      "<script>\n",
      "\t// <![CDATA[  <-- For SVG support\n",
      "\tif ('WebSocket' in window) {\n",
      "\t\t(function () {\n",
      "\t\t\tfunction refreshCSS() {\n",
      "\t\t\t\tvar sheets = [].slice.call(document.getElementsByTagName(\"link\"));\n",
      "\t\t\t\tvar head = document.getElementsByTagName(\"head\")[0];\n",
      "\t\t\t\tfor (var i = 0; i < sheets.length; ++i) {\n",
      "\t\t\t\t\tvar elem = sheets[i];\n",
      "\t\t\t\t\tvar parent = elem.parentElement || head;\n",
      "\t\t\t\t\tparent.removeChild(elem);\n",
      "\t\t\t\t\tvar rel = elem.rel;\n",
      "\t\t\t\t\tif (elem.href && typeof rel != \"string\" || rel.length == 0 || rel.toLowerCase() == \"stylesheet\") {\n",
      "\t\t\t\t\t\tvar url = elem.href.replace(/(&|\\?)_cacheOverride=\\d+/, '');\n",
      "\t\t\t\t\t\telem.href = url + (url.indexOf('?') >= 0 ? '&' : '?') + '_cacheOverride=' + (new Date().valueOf());\n",
      "\t\t\t\t\t}\n",
      "\t\t\t\t\tparent.appendChild(elem);\n",
      "\t\t\t\t}\n",
      "\t\t\t}\n",
      "\t\t\tvar protocol = window.location.protocol === 'http:' ? 'ws://' : 'wss://';\n",
      "\t\t\tvar address = protocol + window.location.host + window.location.pathname + '/ws';\n",
      "\t\t\tvar socket = new WebSocket(address);\n",
      "\t\t\tsocket.onmessage = function (msg) {\n",
      "\t\t\t\tif (msg.data == 'reload') window.location.reload();\n",
      "\t\t\t\telse if (msg.data == 'refreshcss') refreshCSS();\n",
      "\t\t\t};\n",
      "\t\t\tif (sessionStorage && !sessionStorage.getItem('IsThisFirstTime_Log_From_LiveServer')) {\n",
      "\t\t\t\tconsole.log('Live reload enabled.');\n",
      "\t\t\t\tsessionStorage.setItem('IsThisFirstTime_Log_From_LiveServer', true);\n",
      "\t\t\t}\n",
      "\t\t})();\n",
      "\t}\n",
      "\telse {\n",
      "\t\tconsole.error('Upgrade your browser. This Browser is NOT supported WebSocket for Live-Reloading.');\n",
      "\t}\n",
      "\t// ]]>\n",
      "</script>\n",
      "</body>\n",
      "</html>\n"
     ]
    }
   ],
   "source": [
    "with open('response.html','r') as f:\n",
    "    content=f.read()\n",
    "    print(content)"
   ]
  },
  {
   "cell_type": "markdown",
   "id": "5b6a87c5",
   "metadata": {},
   "source": [
    "One needs a parser to use with Beautiful Soup. There exists numerous options such as lxml,Python's built-in html parser etc.\n",
    "For speed one is better off using lxml parser."
   ]
  },
  {
   "cell_type": "code",
   "execution_count": 44,
   "id": "539e1cb0",
   "metadata": {},
   "outputs": [
    {
     "name": "stdout",
     "output_type": "stream",
     "text": [
      "Requirement already satisfied: lxml in /Library/Frameworks/Python.framework/Versions/3.10/lib/python3.10/site-packages (4.9.3)\n",
      "\n",
      "\u001b[1m[\u001b[0m\u001b[34;49mnotice\u001b[0m\u001b[1;39;49m]\u001b[0m\u001b[39;49m A new release of pip is available: \u001b[0m\u001b[31;49m24.2\u001b[0m\u001b[39;49m -> \u001b[0m\u001b[32;49m24.3.1\u001b[0m\n",
      "\u001b[1m[\u001b[0m\u001b[34;49mnotice\u001b[0m\u001b[1;39;49m]\u001b[0m\u001b[39;49m To update, run: \u001b[0m\u001b[32;49mpip install --upgrade pip\u001b[0m\n",
      "Note: you may need to restart the kernel to use updated packages.\n"
     ]
    }
   ],
   "source": [
    "%pip install lxml"
   ]
  },
  {
   "cell_type": "code",
   "execution_count": 45,
   "id": "f9058766",
   "metadata": {},
   "outputs": [],
   "source": [
    "import lxml"
   ]
  },
  {
   "cell_type": "code",
   "execution_count": 46,
   "id": "107b957f",
   "metadata": {},
   "outputs": [
    {
     "data": {
      "text/plain": [
       "['.DS_Store',\n",
       " 'timesjobs.html',\n",
       " 'response.html',\n",
       " '.jovianrc',\n",
       " 'WEB SCRAPPING.ipynb',\n",
       " '.ipynb_checkpoints',\n",
       " 'WEB SCRAPPING INFO FROM A JOB WEBSITE.ipynb']"
      ]
     },
     "execution_count": 46,
     "metadata": {},
     "output_type": "execute_result"
    }
   ],
   "source": [
    "os.listdir()"
   ]
  },
  {
   "cell_type": "code",
   "execution_count": 47,
   "id": "e9d2ce0b",
   "metadata": {},
   "outputs": [],
   "source": [
    "html_str=\"\"\n",
    "with open('response.html','r') as f:\n",
    "    content=f.read()\n",
    "    html_str+=content"
   ]
  },
  {
   "cell_type": "code",
   "execution_count": 48,
   "id": "391bf137",
   "metadata": {},
   "outputs": [],
   "source": [
    "soup=BeautifulSoup(html_str,'lxml')"
   ]
  },
  {
   "cell_type": "code",
   "execution_count": 49,
   "id": "e462d76b",
   "metadata": {},
   "outputs": [
    {
     "name": "stdout",
     "output_type": "stream",
     "text": [
      "<!DOCTYPE html>\n",
      "<html lang=\"en\">\n",
      " <head>\n",
      "  <meta charset=\"utf-8\"/>\n",
      "  <meta content=\"width=device-width, initial-scale=1, shrink-to-fit=no\" name=\"viewport\"/>\n",
      "  <link crossorigin=\"anonymous\" href=\"https://stackpath.bootstrapcdn.com/bootstrap/4.5.2/css/bootstrap.min.css\" integrity=\"sha384-JcKb8q3iqJ61gNV9KGb8thSsNjpSL0n8PARn9HuZOnIxN0hoP+VmmDGMN5t9UJ0Z\" rel=\"stylesheet\"/>\n",
      "  <title>\n",
      "   My Courses\n",
      "  </title>\n",
      " </head>\n",
      " <body>\n",
      "  <h1>\n",
      "   Hello, Start Learning!\n",
      "  </h1>\n",
      "  <div class=\"card\" id=\"card-python-for-beginners\">\n",
      "   <div class=\"card-header\">\n",
      "    Python\n",
      "   </div>\n",
      "   <div class=\"card-body\">\n",
      "    <h5 class=\"card-title\">\n",
      "     Python for beginners\n",
      "    </h5>\n",
      "    <p class=\"card-text\">\n",
      "     If you are new to Python, this is the course that you should buy!\n",
      "    </p>\n",
      "    <a class=\"btn btn-primary\" href=\"#\">\n",
      "     Start for 20$\n",
      "    </a>\n",
      "   </div>\n",
      "  </div>\n",
      "  <div class=\"card\" id=\"card-python-web-development\">\n",
      "   <div class=\"card-header\">\n",
      "    Python\n",
      "   </div>\n",
      "   <div class=\"card-body\">\n",
      "    <h5 class=\"card-title\">\n",
      "     Python Web Development\n",
      "    </h5>\n",
      "    <p class=\"card-text\">\n",
      "     If you feel enough confident with python, you are ready to learn how to create your own website!\n",
      "    </p>\n",
      "    <a class=\"btn btn-primary\" href=\"#\">\n",
      "     Start for 50$\n",
      "    </a>\n",
      "   </div>\n",
      "  </div>\n",
      "  <div class=\"card\" id=\"card-python-machine-learning\">\n",
      "   <div class=\"card-header\">\n",
      "    Python\n",
      "   </div>\n",
      "   <div class=\"card-body\">\n",
      "    <h5 class=\"card-title\">\n",
      "     Python Machine Learning\n",
      "    </h5>\n",
      "    <p class=\"card-text\">\n",
      "     Become a Python Machine Learning master!\n",
      "    </p>\n",
      "    <a class=\"btn btn-primary\" href=\"#\">\n",
      "     Start for 100$\n",
      "    </a>\n",
      "   </div>\n",
      "  </div>\n",
      "  <!-- Code injected by live-server -->\n",
      "  <script>\n",
      "   // <![CDATA[  <-- For SVG support\n",
      "\tif ('WebSocket' in window) {\n",
      "\t\t(function () {\n",
      "\t\t\tfunction refreshCSS() {\n",
      "\t\t\t\tvar sheets = [].slice.call(document.getElementsByTagName(\"link\"));\n",
      "\t\t\t\tvar head = document.getElementsByTagName(\"head\")[0];\n",
      "\t\t\t\tfor (var i = 0; i < sheets.length; ++i) {\n",
      "\t\t\t\t\tvar elem = sheets[i];\n",
      "\t\t\t\t\tvar parent = elem.parentElement || head;\n",
      "\t\t\t\t\tparent.removeChild(elem);\n",
      "\t\t\t\t\tvar rel = elem.rel;\n",
      "\t\t\t\t\tif (elem.href && typeof rel != \"string\" || rel.length == 0 || rel.toLowerCase() == \"stylesheet\") {\n",
      "\t\t\t\t\t\tvar url = elem.href.replace(/(&|\\?)_cacheOverride=\\d+/, '');\n",
      "\t\t\t\t\t\telem.href = url + (url.indexOf('?') >= 0 ? '&' : '?') + '_cacheOverride=' + (new Date().valueOf());\n",
      "\t\t\t\t\t}\n",
      "\t\t\t\t\tparent.appendChild(elem);\n",
      "\t\t\t\t}\n",
      "\t\t\t}\n",
      "\t\t\tvar protocol = window.location.protocol === 'http:' ? 'ws://' : 'wss://';\n",
      "\t\t\tvar address = protocol + window.location.host + window.location.pathname + '/ws';\n",
      "\t\t\tvar socket = new WebSocket(address);\n",
      "\t\t\tsocket.onmessage = function (msg) {\n",
      "\t\t\t\tif (msg.data == 'reload') window.location.reload();\n",
      "\t\t\t\telse if (msg.data == 'refreshcss') refreshCSS();\n",
      "\t\t\t};\n",
      "\t\t\tif (sessionStorage && !sessionStorage.getItem('IsThisFirstTime_Log_From_LiveServer')) {\n",
      "\t\t\t\tconsole.log('Live reload enabled.');\n",
      "\t\t\t\tsessionStorage.setItem('IsThisFirstTime_Log_From_LiveServer', true);\n",
      "\t\t\t}\n",
      "\t\t})();\n",
      "\t}\n",
      "\telse {\n",
      "\t\tconsole.error('Upgrade your browser. This Browser is NOT supported WebSocket for Live-Reloading.');\n",
      "\t}\n",
      "\t// ]]>\n",
      "  </script>\n",
      "  <!-- Code injected by live-server -->\n",
      "  <script>\n",
      "   // <![CDATA[  <-- For SVG support\n",
      "\tif ('WebSocket' in window) {\n",
      "\t\t(function () {\n",
      "\t\t\tfunction refreshCSS() {\n",
      "\t\t\t\tvar sheets = [].slice.call(document.getElementsByTagName(\"link\"));\n",
      "\t\t\t\tvar head = document.getElementsByTagName(\"head\")[0];\n",
      "\t\t\t\tfor (var i = 0; i < sheets.length; ++i) {\n",
      "\t\t\t\t\tvar elem = sheets[i];\n",
      "\t\t\t\t\tvar parent = elem.parentElement || head;\n",
      "\t\t\t\t\tparent.removeChild(elem);\n",
      "\t\t\t\t\tvar rel = elem.rel;\n",
      "\t\t\t\t\tif (elem.href && typeof rel != \"string\" || rel.length == 0 || rel.toLowerCase() == \"stylesheet\") {\n",
      "\t\t\t\t\t\tvar url = elem.href.replace(/(&|\\?)_cacheOverride=\\d+/, '');\n",
      "\t\t\t\t\t\telem.href = url + (url.indexOf('?') >= 0 ? '&' : '?') + '_cacheOverride=' + (new Date().valueOf());\n",
      "\t\t\t\t\t}\n",
      "\t\t\t\t\tparent.appendChild(elem);\n",
      "\t\t\t\t}\n",
      "\t\t\t}\n",
      "\t\t\tvar protocol = window.location.protocol === 'http:' ? 'ws://' : 'wss://';\n",
      "\t\t\tvar address = protocol + window.location.host + window.location.pathname + '/ws';\n",
      "\t\t\tvar socket = new WebSocket(address);\n",
      "\t\t\tsocket.onmessage = function (msg) {\n",
      "\t\t\t\tif (msg.data == 'reload') window.location.reload();\n",
      "\t\t\t\telse if (msg.data == 'refreshcss') refreshCSS();\n",
      "\t\t\t};\n",
      "\t\t\tif (sessionStorage && !sessionStorage.getItem('IsThisFirstTime_Log_From_LiveServer')) {\n",
      "\t\t\t\tconsole.log('Live reload enabled.');\n",
      "\t\t\t\tsessionStorage.setItem('IsThisFirstTime_Log_From_LiveServer', true);\n",
      "\t\t\t}\n",
      "\t\t})();\n",
      "\t}\n",
      "\telse {\n",
      "\t\tconsole.error('Upgrade your browser. This Browser is NOT supported WebSocket for Live-Reloading.');\n",
      "\t}\n",
      "\t// ]]>\n",
      "  </script>\n",
      "  <!-- Code injected by live-server -->\n",
      "  <script>\n",
      "   // <![CDATA[  <-- For SVG support\n",
      "\tif ('WebSocket' in window) {\n",
      "\t\t(function () {\n",
      "\t\t\tfunction refreshCSS() {\n",
      "\t\t\t\tvar sheets = [].slice.call(document.getElementsByTagName(\"link\"));\n",
      "\t\t\t\tvar head = document.getElementsByTagName(\"head\")[0];\n",
      "\t\t\t\tfor (var i = 0; i < sheets.length; ++i) {\n",
      "\t\t\t\t\tvar elem = sheets[i];\n",
      "\t\t\t\t\tvar parent = elem.parentElement || head;\n",
      "\t\t\t\t\tparent.removeChild(elem);\n",
      "\t\t\t\t\tvar rel = elem.rel;\n",
      "\t\t\t\t\tif (elem.href && typeof rel != \"string\" || rel.length == 0 || rel.toLowerCase() == \"stylesheet\") {\n",
      "\t\t\t\t\t\tvar url = elem.href.replace(/(&|\\?)_cacheOverride=\\d+/, '');\n",
      "\t\t\t\t\t\telem.href = url + (url.indexOf('?') >= 0 ? '&' : '?') + '_cacheOverride=' + (new Date().valueOf());\n",
      "\t\t\t\t\t}\n",
      "\t\t\t\t\tparent.appendChild(elem);\n",
      "\t\t\t\t}\n",
      "\t\t\t}\n",
      "\t\t\tvar protocol = window.location.protocol === 'http:' ? 'ws://' : 'wss://';\n",
      "\t\t\tvar address = protocol + window.location.host + window.location.pathname + '/ws';\n",
      "\t\t\tvar socket = new WebSocket(address);\n",
      "\t\t\tsocket.onmessage = function (msg) {\n",
      "\t\t\t\tif (msg.data == 'reload') window.location.reload();\n",
      "\t\t\t\telse if (msg.data == 'refreshcss') refreshCSS();\n",
      "\t\t\t};\n",
      "\t\t\tif (sessionStorage && !sessionStorage.getItem('IsThisFirstTime_Log_From_LiveServer')) {\n",
      "\t\t\t\tconsole.log('Live reload enabled.');\n",
      "\t\t\t\tsessionStorage.setItem('IsThisFirstTime_Log_From_LiveServer', true);\n",
      "\t\t\t}\n",
      "\t\t})();\n",
      "\t}\n",
      "\telse {\n",
      "\t\tconsole.error('Upgrade your browser. This Browser is NOT supported WebSocket for Live-Reloading.');\n",
      "\t}\n",
      "\t// ]]>\n",
      "  </script>\n",
      " </body>\n",
      "</html>\n"
     ]
    }
   ],
   "source": [
    "print(soup.prettify())"
   ]
  },
  {
   "cell_type": "markdown",
   "id": "dff24017",
   "metadata": {},
   "source": [
    "## WEB SCRAPPING"
   ]
  },
  {
   "cell_type": "markdown",
   "id": "5133c25e",
   "metadata": {},
   "source": [
    "Let's grab hold of all the **h5** tags present in the document"
   ]
  },
  {
   "cell_type": "code",
   "execution_count": 50,
   "id": "e6a1c587",
   "metadata": {},
   "outputs": [],
   "source": [
    "h5_tag_info=soup.h5    "
   ]
  },
  {
   "cell_type": "code",
   "execution_count": 51,
   "id": "6df6ab4e",
   "metadata": {},
   "outputs": [
    {
     "data": {
      "text/plain": [
       "bs4.element.Tag"
      ]
     },
     "execution_count": 51,
     "metadata": {},
     "output_type": "execute_result"
    }
   ],
   "source": [
    "type(h5_tag_info)"
   ]
  },
  {
   "cell_type": "code",
   "execution_count": 52,
   "id": "ea452899",
   "metadata": {},
   "outputs": [
    {
     "data": {
      "text/plain": [
       "<h5 class=\"card-title\">Python for beginners</h5>"
      ]
     },
     "execution_count": 52,
     "metadata": {},
     "output_type": "execute_result"
    }
   ],
   "source": [
    "h5_tag_info"
   ]
  },
  {
   "cell_type": "markdown",
   "id": "9921d4d9",
   "metadata": {},
   "source": [
    "**soup.tag_name** or **soup.find(tag_name)** outputs if present the first tag_name tag in the html document. To obtain all **tags soup.find_all(tag_name)** is used."
   ]
  },
  {
   "cell_type": "code",
   "execution_count": 53,
   "id": "4e028057",
   "metadata": {},
   "outputs": [
    {
     "name": "stdout",
     "output_type": "stream",
     "text": [
      "[<h5 class=\"card-title\">Python for beginners</h5>, <h5 class=\"card-title\">Python Web Development</h5>, <h5 class=\"card-title\">Python Machine Learning</h5>]\n"
     ]
    }
   ],
   "source": [
    "h5_tags_info=soup.find_all('h5')\n",
    "print(h5_tags_info)"
   ]
  },
  {
   "cell_type": "code",
   "execution_count": 54,
   "id": "42c51182",
   "metadata": {},
   "outputs": [],
   "source": [
    "def Retrieve_Info_Stored_InTags(doc,tag):\n",
    "    tag_texts=[]\n",
    "    tag_attr=[]\n",
    "    for tag in doc.find_all(tag):\n",
    "        tag_texts.append(tag.string)\n",
    "        if len(list(tag.attrs.keys()))>0:\n",
    "            tag_attr.append(tag.attrs)\n",
    "    return tag_texts,tag_attr"
   ]
  },
  {
   "cell_type": "code",
   "execution_count": 55,
   "id": "e8811ee4",
   "metadata": {},
   "outputs": [],
   "source": [
    "h5_texts,h5_attributes=Retrieve_Info_Stored_InTags(soup,'h5')"
   ]
  },
  {
   "cell_type": "code",
   "execution_count": 56,
   "id": "2e6ee410",
   "metadata": {},
   "outputs": [
    {
     "data": {
      "text/plain": [
       "['Python for beginners', 'Python Web Development', 'Python Machine Learning']"
      ]
     },
     "execution_count": 56,
     "metadata": {},
     "output_type": "execute_result"
    }
   ],
   "source": [
    "h5_texts"
   ]
  },
  {
   "cell_type": "code",
   "execution_count": 57,
   "id": "1afe2135",
   "metadata": {},
   "outputs": [
    {
     "data": {
      "text/plain": [
       "[{'class': ['card-title']},\n",
       " {'class': ['card-title']},\n",
       " {'class': ['card-title']}]"
      ]
     },
     "execution_count": 57,
     "metadata": {},
     "output_type": "execute_result"
    }
   ],
   "source": [
    "h5_attributes"
   ]
  },
  {
   "cell_type": "markdown",
   "id": "94945c23",
   "metadata": {},
   "source": [
    "Now let us find out what all text is present across all **anchor** tags in the page"
   ]
  },
  {
   "cell_type": "code",
   "execution_count": 58,
   "id": "386a0476",
   "metadata": {},
   "outputs": [],
   "source": [
    "a_texts,a_attributes=Retrieve_Info_Stored_InTags(soup,'a')"
   ]
  },
  {
   "cell_type": "code",
   "execution_count": 59,
   "id": "f5aa9a5f",
   "metadata": {},
   "outputs": [
    {
     "data": {
      "text/plain": [
       "['Start for 20$', 'Start for 50$', 'Start for 100$']"
      ]
     },
     "execution_count": 59,
     "metadata": {},
     "output_type": "execute_result"
    }
   ],
   "source": [
    "a_texts"
   ]
  },
  {
   "cell_type": "markdown",
   "id": "043bccf9",
   "metadata": {},
   "source": [
    "Let us find out external web pages the anchor tags point at if any"
   ]
  },
  {
   "cell_type": "code",
   "execution_count": 60,
   "id": "134ecbd7",
   "metadata": {},
   "outputs": [],
   "source": [
    "ext_webpages=[]\n",
    "for link in a_attributes:\n",
    "    if 'href' in link and not(link['href'].startswith('#')):\n",
    "        ext_webpages.append(link['href'])"
   ]
  },
  {
   "cell_type": "code",
   "execution_count": 61,
   "id": "c5b0620b",
   "metadata": {},
   "outputs": [],
   "source": [
    "# assert len(ext_webpages)>0,'No Link To Any External Webpage Found'"
   ]
  },
  {
   "cell_type": "markdown",
   "id": "0b1e0fee",
   "metadata": {},
   "source": [
    "As can be observed from above, there exists no link that points to any external webpage."
   ]
  },
  {
   "cell_type": "markdown",
   "id": "930582cd",
   "metadata": {},
   "source": [
    "#### OBTAIN COURSE NAMES AND PRICES"
   ]
  },
  {
   "cell_type": "markdown",
   "id": "bdfc227e",
   "metadata": {},
   "source": [
    "It is found that all course names are within **h5** tags whereas all course prices are within **a** tags."
   ]
  },
  {
   "cell_type": "code",
   "execution_count": 62,
   "id": "bdd78d78",
   "metadata": {},
   "outputs": [],
   "source": [
    "def Obtain_CourseNames_And_Prices(bs_obj):\n",
    "    ans={}\n",
    "    for course_tag in bs_obj.find_all('h5'):\n",
    "        ans[course_tag.string]=\"\"\n",
    "    for i,price_tag in enumerate(bs_obj.find_all('a')):\n",
    "        ans[list(ans.keys())[i]]+=str(price_tag.string).split(' ')[-1]\n",
    "    return ans"
   ]
  },
  {
   "cell_type": "code",
   "execution_count": 63,
   "id": "4b42b0ce",
   "metadata": {},
   "outputs": [],
   "source": [
    "courses_info=Obtain_CourseNames_And_Prices(soup)"
   ]
  },
  {
   "cell_type": "code",
   "execution_count": 64,
   "id": "c99a71ad",
   "metadata": {},
   "outputs": [
    {
     "data": {
      "text/plain": [
       "{'Python for beginners': '20$',\n",
       " 'Python Web Development': '50$',\n",
       " 'Python Machine Learning': '100$'}"
      ]
     },
     "execution_count": 64,
     "metadata": {},
     "output_type": "execute_result"
    }
   ],
   "source": [
    "courses_info"
   ]
  },
  {
   "cell_type": "markdown",
   "id": "bb276005",
   "metadata": {},
   "source": [
    "Another way to obtain the same is to inspect page and look as to where the prices information could be found."
   ]
  },
  {
   "cell_type": "code",
   "execution_count": 65,
   "id": "3fcc7850",
   "metadata": {},
   "outputs": [],
   "source": [
    "def Obtain_CourseNames_And_Prices_2(bs_obj):\n",
    "    res=bs_obj.find_all('div',class_='card-body')\n",
    "    ans={}\n",
    "    last_key=\"\"\n",
    "    \n",
    "    for item in res:\n",
    "        ans[item.h5.string]=\"\"\n",
    "        ans[item.h5.string]+=str(item.a.string).split(' ')[-1]\n",
    "    return ans"
   ]
  },
  {
   "cell_type": "code",
   "execution_count": 66,
   "id": "58e7fb86",
   "metadata": {},
   "outputs": [],
   "source": [
    "res=Obtain_CourseNames_And_Prices_2(soup)"
   ]
  },
  {
   "cell_type": "code",
   "execution_count": 67,
   "id": "66514230",
   "metadata": {},
   "outputs": [
    {
     "data": {
      "text/plain": [
       "{'Python for beginners': '20$',\n",
       " 'Python Web Development': '50$',\n",
       " 'Python Machine Learning': '100$'}"
      ]
     },
     "execution_count": 67,
     "metadata": {},
     "output_type": "execute_result"
    }
   ],
   "source": [
    "res"
   ]
  }
 ],
 "metadata": {
  "kernelspec": {
   "display_name": "Python 3 (ipykernel)",
   "language": "python",
   "name": "python3"
  },
  "language_info": {
   "codemirror_mode": {
    "name": "ipython",
    "version": 3
   },
   "file_extension": ".py",
   "mimetype": "text/x-python",
   "name": "python",
   "nbconvert_exporter": "python",
   "pygments_lexer": "ipython3",
   "version": "3.10.8"
  }
 },
 "nbformat": 4,
 "nbformat_minor": 5
}
